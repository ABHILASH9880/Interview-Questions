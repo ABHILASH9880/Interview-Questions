{
 "cells": [
  {
   "cell_type": "code",
   "execution_count": null,
   "metadata": {},
   "outputs": [],
   "source": [
    "\"\"\"1) What is Python? What are the benefits of using Python?\n",
    "Python is a programming language with objects, modules, threads, exceptions, and automatic memory management. \n",
    "The benefits of pythons are that it is simple and easy, portable, extensible, build-in data structure, and it is open-source.\"\"\""
   ]
  },
  {
   "cell_type": "code",
   "execution_count": null,
   "metadata": {},
   "outputs": [],
   "source": [
    "\"\"\"2) What is PEP 8?\n",
    "PEP 8 is a coding convention, a set of recommendation, about how to write your Python code more readable.\"\"\""
   ]
  },
  {
   "cell_type": "code",
   "execution_count": null,
   "metadata": {},
   "outputs": [],
   "source": [
    "\"\"\"3) What is pickling and unpickling?\n",
    "Pickle module accepts any Python object and converts it into a string representation\n",
    " and dumps it into a file by using dump function.This process is called pickling.\n",
    " While the process of retrieving original Python objects from the stored string representation is called unpickling.\"\"\""
   ]
  },
  {
   "cell_type": "code",
   "execution_count": null,
   "metadata": {},
   "outputs": [],
   "source": [
    "\"\"\"4) How is Python interpreted?\n",
    "Python language is an interpreted language. Python program runs directly from the source code.\n",
    " It converts the source code that is written by the programmer into an intermediate language,\n",
    " which is again translated into machine language that has to be executed.\"\"\""
   ]
  },
  {
   "cell_type": "code",
   "execution_count": null,
   "metadata": {},
   "outputs": [],
   "source": [
    "\"\"\"5) How is memory managed in Python?\n",
    "Python memory is managed by Python private heap space.\n",
    "All Python objects and data structures are located in a private heap.\n",
    "The programmer does not have an access to this private heap,\n",
    "and the interpreter takes care of this Python private heap.\n",
    "\n",
    "The allocation of Python heap space for Python objects is done by the Python memory manager.\n",
    "The core API gives access to some tools for the programmer to code.\n",
    "\n",
    "Python also has an inbuilt garbage collector, \n",
    "which recycles all the unused memory and frees the memory and makes it available to the heap space.\"\"\""
   ]
  },
  {
   "cell_type": "code",
   "execution_count": null,
   "metadata": {},
   "outputs": [],
   "source": [
    "\"\"\"6) What are the tools that help to find bugs or perform the static analysis?\n",
    "PyChecker is a static analysis tool that detects the bugs in Python source code \n",
    "and warns about the style and complexity of the bug. Pylint is another tool that verifies whether\n",
    " the module meets the coding standard.\n",
    "\"\"\""
   ]
  },
  {
   "cell_type": "code",
   "execution_count": null,
   "metadata": {},
   "outputs": [],
   "source": [
    "\"\"\"\n",
    "7) What are Python decorators?\n",
    "A Python decorator is a specific change that we make in Python syntax to alter functions easily.\"\"\""
   ]
  },
  {
   "cell_type": "code",
   "execution_count": null,
   "metadata": {},
   "outputs": [],
   "source": [
    "\"\"\"8) What is the difference between list and tuple?\n",
    "The difference between list and tuple is that list is mutable while tuple is not.\n",
    " Tuple can be hashed, for example., as a key for dictionaries.\"\"\""
   ]
  },
  {
   "cell_type": "code",
   "execution_count": null,
   "metadata": {},
   "outputs": [],
   "source": [
    "\"\"\"\n",
    "9) How are arguments passed by value or by reference?\n",
    "Everything in Python is an object, and all variables hold references to the objects.\n",
    " The reference values are according to the functions. Therefore, you cannot change the value of the references.\n",
    " However, you can change the objects if it is mutable.\"\"\""
   ]
  },
  {
   "cell_type": "code",
   "execution_count": null,
   "metadata": {},
   "outputs": [],
   "source": [
    "\"\"\"10) What is Dict and List comprehensions are?\n",
    "They are syntax constructions to ease the creation of a Dictionary or List based on existing iterable.\n",
    "\"\"\""
   ]
  },
  {
   "cell_type": "code",
   "execution_count": null,
   "metadata": {},
   "outputs": [],
   "source": [
    "\"\"\"11) What are built-in type does python provides?\n",
    "Python provides two built-in types:\n",
    "1) Mutable and 2) Immutable.\n",
    "\n",
    "Mutable built-in types are:\n",
    "\n",
    "List\n",
    "Sets\n",
    "Dictionaries\n",
    "Immutable built-in types\n",
    "Strings\n",
    "Tuples\n",
    "Numbers\n",
    "Immutable built-in types are:\n",
    "\n",
    "Strings\n",
    "Tuples\n",
    "Numbers\"\"\""
   ]
  },
  {
   "cell_type": "code",
   "execution_count": null,
   "metadata": {},
   "outputs": [],
   "source": [
    "\"\"\"12) Explain namespace in Python\n",
    "In Python, every name introduced has a place where it lives and can be hooked for.\n",
    " This is known as a namespace. It is like a box where a variable name is mapped to the object placed. \n",
    " Whenever the variable is searched out, this box will be searched to get the corresponding object.\"\"\""
   ]
  },
  {
   "cell_type": "code",
   "execution_count": null,
   "metadata": {},
   "outputs": [],
   "source": [
    "\"\"\"13) What is lambda in Python?\n",
    "It is a single expression anonymous function often used as inline function.\n",
    "\"\"\""
   ]
  },
  {
   "cell_type": "code",
   "execution_count": null,
   "metadata": {},
   "outputs": [],
   "source": [
    "\"\"\"14) Why lambda forms in python do not have statements?\n",
    "A lambda form in python does not have statements as it is used to make new function object and then return them at runtime.\n",
    "\"\"\""
   ]
  },
  {
   "cell_type": "code",
   "execution_count": null,
   "metadata": {},
   "outputs": [],
   "source": [
    "\"\"\"15) Explain pass in Python\n",
    "Pass means no-operation Python statement, or in other words, it is a place holder in a compound statement,\n",
    "where there should be a blank left, and nothing has to be written there.\"\"\""
   ]
  },
  {
   "cell_type": "code",
   "execution_count": null,
   "metadata": {},
   "outputs": [],
   "source": [
    "\"\"\"16) In Python what are iterators?\n",
    "In Python, iterators are used to iterate a group of elements, containers like a list.\"\"\""
   ]
  },
  {
   "cell_type": "code",
   "execution_count": null,
   "metadata": {},
   "outputs": [],
   "source": [
    "\"\"\"17) What is the unittest in Python?\n",
    "A unit testing framework in Python is known as unittest.\n",
    "It supports sharing of setups, automation testing, shutdown code for tests, aggregation of tests into collections, etc.\"\"\""
   ]
  },
  {
   "cell_type": "code",
   "execution_count": null,
   "metadata": {},
   "outputs": [],
   "source": [
    "\"\"\"18) Explain slicing in Python?\n",
    "A mechanism to select a range of items from sequence types like list, tuple, strings etc., is known as slicing.\n",
    "\"\"\""
   ]
  },
  {
   "cell_type": "code",
   "execution_count": null,
   "metadata": {},
   "outputs": [],
   "source": [
    "\"\"\"19) What are generators in Python?\n",
    "The way of implementing iterators are known as generators. \n",
    "It is a normal function except that it yields expression in the function.\n",
    "\"\"\""
   ]
  },
  {
   "cell_type": "code",
   "execution_count": null,
   "metadata": {},
   "outputs": [],
   "source": [
    "\"\"\"20) What is docstring in Python?\n",
    "A Python documentation string is known as docstring, it is a way of documenting Python functions, modules, and classes.\"\"\""
   ]
  }
 ],
 "metadata": {
  "kernelspec": {
   "display_name": "Python 3",
   "language": "python",
   "name": "python3"
  },
  "language_info": {
   "name": "python",
   "version": "3.11.4"
  }
 },
 "nbformat": 4,
 "nbformat_minor": 2
}
